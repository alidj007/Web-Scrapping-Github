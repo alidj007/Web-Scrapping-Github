{
 "cells": [
  {
   "cell_type": "markdown",
   "id": "8c264ac6",
   "metadata": {},
   "source": [
    " # Scraping Top Repositories of Topics from GitHub \n",
    " \n",
    " About Web Scraping-\n",
    " \n",
    "         \"Web Scraping is an automatic method to obtain large amounts of data from websites. Most of this data is unstructured data in an HTML format which is then converted into structured data in a spreadsheet or a database so that it can be used in various applications. There are many different ways to perform web scraping to obtain data from websites. These include using online services, particular API’s or even creating your code for web scraping from scratch.\"\n",
    " "
   ]
  },
  {
   "cell_type": "markdown",
   "id": "ce44bf54",
   "metadata": {},
   "source": [
    "### Project Outline :\n",
    "\n",
    "- I will scrape https://github.com/topics\n",
    "- I will get a list of topics. For each topic, I'll fetch topic's title, topic pages URL and topic description.\n",
    "- For each topic, I'll get the top 25 repositories in the topic from the topic page\n",
    "- For each repository, we'll grab the repo name, username, stars and repo URL\n",
    "- For each topic we'll create a CSV file in the following format:\n",
    "- Repo Name,Username,Stars,Repo URL\n",
    "- three.js,mrdoob,69700,https://github.com/mrdoob/three.js\n",
    "- libgdx,libgdx,18300,https://github.com/libgdx/libgdx\n",
    "    "
   ]
  },
  {
   "cell_type": "markdown",
   "id": "6f2ca7af",
   "metadata": {},
   "source": [
    "## Modus Operandi\n",
    "\n",
    " - I have done this project in two parts:\n",
    " \n",
    "       First Part - It contains the detailed step by step parsing of data from different layers of a webpage.\n",
    "\n",
    "       Second Part - It contains the main code where I have defined functions to do the same project in a more concise way.\n",
    "\n",
    " - I will be using tools like Python, Requests, Beautiful Soup, Pandas, OS"
   ]
  },
  {
   "cell_type": "markdown",
   "id": "00368b05",
   "metadata": {},
   "source": [
    "# Part - 1"
   ]
  },
  {
   "cell_type": "markdown",
   "id": "e8ba3f3f",
   "metadata": {},
   "source": [
    "## Sub Part - 1.(A)"
   ]
  },
  {
   "cell_type": "markdown",
   "id": "528705d8",
   "metadata": {},
   "source": [
    "###   a) Used the \"requests\" library to download the web page"
   ]
  },
  {
   "cell_type": "code",
   "execution_count": 1,
   "id": "510d2024",
   "metadata": {},
   "outputs": [],
   "source": [
    "!pip install requests --upgrade --quiet"
   ]
  },
  {
   "cell_type": "code",
   "execution_count": 2,
   "id": "56b9b284",
   "metadata": {},
   "outputs": [],
   "source": [
    "import requests"
   ]
  },
  {
   "cell_type": "code",
   "execution_count": 3,
   "id": "64c4a77e",
   "metadata": {},
   "outputs": [],
   "source": [
    "topics_url = 'https://github.com/topics'"
   ]
  },
  {
   "cell_type": "code",
   "execution_count": 4,
   "id": "6be3019c",
   "metadata": {},
   "outputs": [],
   "source": [
    "response = requests.get(topics_url)"
   ]
  },
  {
   "cell_type": "code",
   "execution_count": 5,
   "id": "4be346b5",
   "metadata": {},
   "outputs": [
    {
     "data": {
      "text/plain": [
       "200"
      ]
     },
     "execution_count": 5,
     "metadata": {},
     "output_type": "execute_result"
    }
   ],
   "source": [
    "response.status_code"
   ]
  },
  {
   "cell_type": "code",
   "execution_count": 6,
   "id": "35bda1ac",
   "metadata": {},
   "outputs": [
    {
     "data": {
      "text/plain": [
       "134501"
      ]
     },
     "execution_count": 6,
     "metadata": {},
     "output_type": "execute_result"
    }
   ],
   "source": [
    "len(response.text)"
   ]
  },
  {
   "cell_type": "code",
   "execution_count": 7,
   "id": "33bcceab",
   "metadata": {},
   "outputs": [],
   "source": [
    "page_contents = response.text"
   ]
  },
  {
   "cell_type": "code",
   "execution_count": 8,
   "id": "58c49aa8",
   "metadata": {},
   "outputs": [
    {
     "data": {
      "text/plain": [
       "'\\n\\n<!DOCTYPE html>\\n<html lang=\"en\" data-color-mode=\"auto\" data-light-theme=\"light\" data-dark-theme=\"dark\">\\n  <head>\\n    <meta charset=\"utf-8\">\\n  <link rel=\"dns-prefetch\" href=\"https://github.githubassets.com\">\\n  <link rel=\"dns-prefetch\" href=\"https://avatars.githubusercontent.com\">\\n  <link rel=\"dns-prefetch\" href=\"https://github-cloud.s3.amazonaws.com\">\\n  <link rel=\"dns-prefetch\" href=\"https://user-images.githubusercontent.com/\">\\n\\n\\n\\n  <link crossorigin=\"anonymous\" media=\"all\" integrity=\"sha512-+z3z7w/QKK6v7DS9Y7YG7e3neIfYqIJaOykTRwMq4TdhAIQ7h3n7TCXttcuZDvdnaWPJV44oKM5vmkLhHO2ZHA==\" rel=\"stylesheet\" href=\"https://github.githubassets.com/assets/frameworks-fb3df3ef0fd028aeafec34bd63b606ed.css\" />\\n  \\n    <link crossorigin=\"anonymous\" media=\"all\" integrity=\"sha512-fT2DQxqNhDV1nNx3O++a8GI7qYYEW9SXVa1DFqueH7oHuDL9whJKb3TOAvI6HA8fH6nRcesnmlOqZEkTo1i0Ig==\" rel=\"stylesheet\" href=\"https://github.githubassets.com/assets/behaviors-7d3d83431a8d8435759cdc773bef9af0.css\" />\\n    \\n    \\n    \\n    <link cro'"
      ]
     },
     "execution_count": 8,
     "metadata": {},
     "output_type": "execute_result"
    }
   ],
   "source": [
    "page_contents[:1000]"
   ]
  },
  {
   "cell_type": "code",
   "execution_count": 9,
   "id": "0a270a75",
   "metadata": {
    "scrolled": true
   },
   "outputs": [],
   "source": [
    "with open('webpage.html','w',encoding=\"utf-8\") as f:\n",
    "    f.write(page_contents)"
   ]
  },
  {
   "cell_type": "markdown",
   "id": "c698c70b",
   "metadata": {},
   "source": [
    "###   b)  Used  Beautiful Soup to parse and extract information"
   ]
  },
  {
   "cell_type": "code",
   "execution_count": 10,
   "id": "5a291900",
   "metadata": {},
   "outputs": [],
   "source": [
    "from bs4 import BeautifulSoup"
   ]
  },
  {
   "cell_type": "code",
   "execution_count": 11,
   "id": "0cbef1c7",
   "metadata": {},
   "outputs": [],
   "source": [
    "parsed_doc = BeautifulSoup(page_contents, 'html.parser')"
   ]
  },
  {
   "cell_type": "code",
   "execution_count": 12,
   "id": "03d8c751",
   "metadata": {
    "scrolled": true
   },
   "outputs": [
    {
     "data": {
      "text/plain": [
       "bs4.BeautifulSoup"
      ]
     },
     "execution_count": 12,
     "metadata": {},
     "output_type": "execute_result"
    }
   ],
   "source": [
    "type(parsed_doc)"
   ]
  },
  {
   "cell_type": "markdown",
   "id": "97d3de8d",
   "metadata": {},
   "source": [
    "###   c) Selects the Titles from Github"
   ]
  },
  {
   "cell_type": "code",
   "execution_count": 13,
   "id": "312cf8dd",
   "metadata": {},
   "outputs": [],
   "source": [
    "selection_class = \"f3 lh-condensed mb-0 mt-1 Link--primary\"\n",
    "topic_title_tags = parsed_doc.find_all('p', {'class': selection_class})"
   ]
  },
  {
   "cell_type": "code",
   "execution_count": 14,
   "id": "78b105bd",
   "metadata": {},
   "outputs": [
    {
     "data": {
      "text/plain": [
       "30"
      ]
     },
     "execution_count": 14,
     "metadata": {},
     "output_type": "execute_result"
    }
   ],
   "source": [
    "len(topic_title_tags)"
   ]
  },
  {
   "cell_type": "code",
   "execution_count": 15,
   "id": "84bc1a0d",
   "metadata": {},
   "outputs": [
    {
     "data": {
      "text/plain": [
       "[<p class=\"f3 lh-condensed mb-0 mt-1 Link--primary\">3D</p>,\n",
       " <p class=\"f3 lh-condensed mb-0 mt-1 Link--primary\">Ajax</p>,\n",
       " <p class=\"f3 lh-condensed mb-0 mt-1 Link--primary\">Algorithm</p>,\n",
       " <p class=\"f3 lh-condensed mb-0 mt-1 Link--primary\">Amp</p>,\n",
       " <p class=\"f3 lh-condensed mb-0 mt-1 Link--primary\">Android</p>,\n",
       " <p class=\"f3 lh-condensed mb-0 mt-1 Link--primary\">Angular</p>,\n",
       " <p class=\"f3 lh-condensed mb-0 mt-1 Link--primary\">Ansible</p>,\n",
       " <p class=\"f3 lh-condensed mb-0 mt-1 Link--primary\">API</p>,\n",
       " <p class=\"f3 lh-condensed mb-0 mt-1 Link--primary\">Arduino</p>,\n",
       " <p class=\"f3 lh-condensed mb-0 mt-1 Link--primary\">ASP.NET</p>,\n",
       " <p class=\"f3 lh-condensed mb-0 mt-1 Link--primary\">Atom</p>,\n",
       " <p class=\"f3 lh-condensed mb-0 mt-1 Link--primary\">Awesome Lists</p>,\n",
       " <p class=\"f3 lh-condensed mb-0 mt-1 Link--primary\">Amazon Web Services</p>,\n",
       " <p class=\"f3 lh-condensed mb-0 mt-1 Link--primary\">Azure</p>,\n",
       " <p class=\"f3 lh-condensed mb-0 mt-1 Link--primary\">Babel</p>,\n",
       " <p class=\"f3 lh-condensed mb-0 mt-1 Link--primary\">Bash</p>,\n",
       " <p class=\"f3 lh-condensed mb-0 mt-1 Link--primary\">Bitcoin</p>,\n",
       " <p class=\"f3 lh-condensed mb-0 mt-1 Link--primary\">Bootstrap</p>,\n",
       " <p class=\"f3 lh-condensed mb-0 mt-1 Link--primary\">Bot</p>,\n",
       " <p class=\"f3 lh-condensed mb-0 mt-1 Link--primary\">C</p>,\n",
       " <p class=\"f3 lh-condensed mb-0 mt-1 Link--primary\">Chrome</p>,\n",
       " <p class=\"f3 lh-condensed mb-0 mt-1 Link--primary\">Chrome extension</p>,\n",
       " <p class=\"f3 lh-condensed mb-0 mt-1 Link--primary\">Command line interface</p>,\n",
       " <p class=\"f3 lh-condensed mb-0 mt-1 Link--primary\">Clojure</p>,\n",
       " <p class=\"f3 lh-condensed mb-0 mt-1 Link--primary\">Code quality</p>,\n",
       " <p class=\"f3 lh-condensed mb-0 mt-1 Link--primary\">Code review</p>,\n",
       " <p class=\"f3 lh-condensed mb-0 mt-1 Link--primary\">Compiler</p>,\n",
       " <p class=\"f3 lh-condensed mb-0 mt-1 Link--primary\">Continuous integration</p>,\n",
       " <p class=\"f3 lh-condensed mb-0 mt-1 Link--primary\">COVID-19</p>,\n",
       " <p class=\"f3 lh-condensed mb-0 mt-1 Link--primary\">C++</p>]"
      ]
     },
     "execution_count": 15,
     "metadata": {},
     "output_type": "execute_result"
    }
   ],
   "source": [
    "topic_title_tags"
   ]
  },
  {
   "cell_type": "markdown",
   "id": "f3a390b9",
   "metadata": {},
   "source": [
    "###   d) Selects the Description of the Topic/Title"
   ]
  },
  {
   "cell_type": "code",
   "execution_count": 16,
   "id": "3cd2f6c2",
   "metadata": {},
   "outputs": [],
   "source": [
    "desc_selector = \"f5 color-text-secondary mb-0 mt-1\"\n",
    "topic_desc_tags = parsed_doc.find_all('p', {'class': desc_selector})"
   ]
  },
  {
   "cell_type": "code",
   "execution_count": 17,
   "id": "3e975077",
   "metadata": {},
   "outputs": [
    {
     "data": {
      "text/plain": [
       "[<p class=\"f5 color-text-secondary mb-0 mt-1\">\n",
       "               3D modeling is the process of virtually developing the surface and structure of a 3D object.\n",
       "             </p>,\n",
       " <p class=\"f5 color-text-secondary mb-0 mt-1\">\n",
       "               Ajax is a technique for creating interactive web applications.\n",
       "             </p>,\n",
       " <p class=\"f5 color-text-secondary mb-0 mt-1\">\n",
       "               Algorithms are self-contained sequences that carry out a variety of tasks.\n",
       "             </p>,\n",
       " <p class=\"f5 color-text-secondary mb-0 mt-1\">\n",
       "               Amp is a non-blocking concurrency framework for PHP.\n",
       "             </p>,\n",
       " <p class=\"f5 color-text-secondary mb-0 mt-1\">\n",
       "               Android is an operating system built by Google designed for mobile devices.\n",
       "             </p>]"
      ]
     },
     "execution_count": 17,
     "metadata": {},
     "output_type": "execute_result"
    }
   ],
   "source": [
    "topic_desc_tags[:5]"
   ]
  },
  {
   "cell_type": "markdown",
   "id": "3044680e",
   "metadata": {},
   "source": [
    "###  e)  Selects the Link of the Titles Tags"
   ]
  },
  {
   "cell_type": "code",
   "execution_count": 18,
   "id": "88d72d74",
   "metadata": {},
   "outputs": [],
   "source": [
    "link_selector = 'd-flex no-underline'\n",
    "topic_link_tags = parsed_doc.find_all('a', {'class': link_selector })"
   ]
  },
  {
   "cell_type": "code",
   "execution_count": 19,
   "id": "f78147a4",
   "metadata": {},
   "outputs": [
    {
     "data": {
      "text/plain": [
       "30"
      ]
     },
     "execution_count": 19,
     "metadata": {},
     "output_type": "execute_result"
    }
   ],
   "source": [
    "len(topic_link_tags)"
   ]
  },
  {
   "cell_type": "code",
   "execution_count": 20,
   "id": "04532349",
   "metadata": {},
   "outputs": [
    {
     "data": {
      "text/plain": [
       "<a class=\"d-flex no-underline\" data-ga-click=\"Explore, go to 3d, location:All featured topics\" href=\"/topics/3d\">\n",
       "<div class=\"color-bg-info f4 color-text-tertiary text-bold rounded mr-3 flex-shrink-0 text-center\" style=\"width:64px; height:64px; line-height:64px;\">\n",
       "            #\n",
       "          </div>\n",
       "<div class=\"d-sm-flex flex-auto\">\n",
       "<div class=\"flex-auto\">\n",
       "<p class=\"f3 lh-condensed mb-0 mt-1 Link--primary\">3D</p>\n",
       "<p class=\"f5 color-text-secondary mb-0 mt-1\">\n",
       "              3D modeling is the process of virtually developing the surface and structure of a 3D object.\n",
       "            </p>\n",
       "</div>\n",
       "<div class=\"d-inline-block js-toggler-container starring-container\">\n",
       "<a aria-label=\"You must be signed in to star a topic\" class=\"btn btn-sm d-flex flex-items-center\" data-ga-click=\"Explore, click star button when signed out,\n",
       "        action:topics#index;\n",
       "        text:Star\" href=\"/login?return_to=%2Ftopics%2F3d\" title=\"You must be signed in to star a topic\">\n",
       "<svg aria-hidden=\"true\" class=\"octicon octicon-star mr-1\" height=\"16\" version=\"1.1\" viewbox=\"0 0 16 16\" width=\"16\"><path d=\"M8 .25a.75.75 0 01.673.418l1.882 3.815 4.21.612a.75.75 0 01.416 1.279l-3.046 2.97.719 4.192a.75.75 0 01-1.088.791L8 12.347l-3.766 1.98a.75.75 0 01-1.088-.79l.72-4.194L.818 6.374a.75.75 0 01.416-1.28l4.21-.611L7.327.668A.75.75 0 018 .25zm0 2.445L6.615 5.5a.75.75 0 01-.564.41l-3.097.45 2.24 2.184a.75.75 0 01.216.664l-.528 3.084 2.769-1.456a.75.75 0 01.698 0l2.77 1.456-.53-3.084a.75.75 0 01.216-.664l2.24-2.183-3.096-.45a.75.75 0 01-.564-.41L8 2.694v.001z\" fill-rule=\"evenodd\"></path></svg>Star\n",
       "    </a>\n",
       "</div>\n",
       "</div>\n",
       "</a>"
      ]
     },
     "execution_count": 20,
     "metadata": {},
     "output_type": "execute_result"
    }
   ],
   "source": [
    "topic_link_tags[0]"
   ]
  },
  {
   "cell_type": "code",
   "execution_count": 21,
   "id": "7fc88367",
   "metadata": {},
   "outputs": [
    {
     "data": {
      "text/plain": [
       "'/topics/3d'"
      ]
     },
     "execution_count": 21,
     "metadata": {},
     "output_type": "execute_result"
    }
   ],
   "source": [
    "topic_link_tags[0]['href']"
   ]
  },
  {
   "cell_type": "code",
   "execution_count": 22,
   "id": "fc826e95",
   "metadata": {},
   "outputs": [
    {
     "name": "stdout",
     "output_type": "stream",
     "text": [
      "https://github.com/topics/3d\n"
     ]
    }
   ],
   "source": [
    "topic0_url = 'https://github.com' + topic_link_tags[0]['href']\n",
    "print(topic0_url)"
   ]
  },
  {
   "cell_type": "markdown",
   "id": "e1ff4cf2",
   "metadata": {},
   "source": [
    "###  f)  Creats a list of Titles"
   ]
  },
  {
   "cell_type": "code",
   "execution_count": 23,
   "id": "6df14580",
   "metadata": {},
   "outputs": [
    {
     "name": "stdout",
     "output_type": "stream",
     "text": [
      "['3D', 'Ajax', 'Algorithm', 'Amp', 'Android', 'Angular', 'Ansible', 'API', 'Arduino', 'ASP.NET', 'Atom', 'Awesome Lists', 'Amazon Web Services', 'Azure', 'Babel', 'Bash', 'Bitcoin', 'Bootstrap', 'Bot', 'C', 'Chrome', 'Chrome extension', 'Command line interface', 'Clojure', 'Code quality', 'Code review', 'Compiler', 'Continuous integration', 'COVID-19', 'C++']\n"
     ]
    }
   ],
   "source": [
    "topic_titles= []\n",
    "\n",
    "for tag in topic_title_tags:\n",
    "    topic_titles.append(tag.text)\n",
    "print(topic_titles)"
   ]
  },
  {
   "cell_type": "markdown",
   "id": "94b1421d",
   "metadata": {},
   "source": [
    "###  g)  Creates a list of descriptions of Titles"
   ]
  },
  {
   "cell_type": "code",
   "execution_count": 24,
   "id": "b395cfd4",
   "metadata": {},
   "outputs": [
    {
     "data": {
      "text/plain": [
       "['3D modeling is the process of virtually developing the surface and structure of a 3D object.',\n",
       " 'Ajax is a technique for creating interactive web applications.',\n",
       " 'Algorithms are self-contained sequences that carry out a variety of tasks.',\n",
       " 'Amp is a non-blocking concurrency framework for PHP.',\n",
       " 'Android is an operating system built by Google designed for mobile devices.']"
      ]
     },
     "execution_count": 24,
     "metadata": {},
     "output_type": "execute_result"
    }
   ],
   "source": [
    "topic_descs = []\n",
    "\n",
    "for tag in topic_desc_tags:\n",
    "    topic_descs.append(tag.text.strip())\n",
    "\n",
    "topic_descs[:5]"
   ]
  },
  {
   "cell_type": "markdown",
   "id": "feddef22",
   "metadata": {},
   "source": [
    "###   h) Creates a list of urls of Titles"
   ]
  },
  {
   "cell_type": "code",
   "execution_count": 25,
   "id": "df0b001d",
   "metadata": {},
   "outputs": [
    {
     "data": {
      "text/plain": [
       "['https://github.com/topics/3d',\n",
       " 'https://github.com/topics/ajax',\n",
       " 'https://github.com/topics/algorithm',\n",
       " 'https://github.com/topics/amphp',\n",
       " 'https://github.com/topics/android',\n",
       " 'https://github.com/topics/angular',\n",
       " 'https://github.com/topics/ansible',\n",
       " 'https://github.com/topics/api',\n",
       " 'https://github.com/topics/arduino',\n",
       " 'https://github.com/topics/aspnet',\n",
       " 'https://github.com/topics/atom',\n",
       " 'https://github.com/topics/awesome',\n",
       " 'https://github.com/topics/aws',\n",
       " 'https://github.com/topics/azure',\n",
       " 'https://github.com/topics/babel',\n",
       " 'https://github.com/topics/bash',\n",
       " 'https://github.com/topics/bitcoin',\n",
       " 'https://github.com/topics/bootstrap',\n",
       " 'https://github.com/topics/bot',\n",
       " 'https://github.com/topics/c',\n",
       " 'https://github.com/topics/chrome',\n",
       " 'https://github.com/topics/chrome-extension',\n",
       " 'https://github.com/topics/cli',\n",
       " 'https://github.com/topics/clojure',\n",
       " 'https://github.com/topics/code-quality',\n",
       " 'https://github.com/topics/code-review',\n",
       " 'https://github.com/topics/compiler',\n",
       " 'https://github.com/topics/continuous-integration',\n",
       " 'https://github.com/topics/covid-19',\n",
       " 'https://github.com/topics/cpp']"
      ]
     },
     "execution_count": 25,
     "metadata": {},
     "output_type": "execute_result"
    }
   ],
   "source": [
    "topic_urls = []\n",
    "base_url = 'https://github.com'\n",
    "\n",
    "for tag in topic_link_tags:\n",
    "    topic_urls.append(base_url + tag['href'])\n",
    "    \n",
    "topic_urls"
   ]
  },
  {
   "cell_type": "code",
   "execution_count": 26,
   "id": "4ecd2b7b",
   "metadata": {},
   "outputs": [],
   "source": [
    "import pandas as pd"
   ]
  },
  {
   "cell_type": "markdown",
   "id": "2b2bb8f6",
   "metadata": {},
   "source": [
    "###  i)  Creates a dictionary of Title name ,its description and its url"
   ]
  },
  {
   "cell_type": "code",
   "execution_count": 27,
   "id": "aa65546f",
   "metadata": {},
   "outputs": [],
   "source": [
    "topic_dict = {\n",
    "        'Title':topic_titles,\n",
    "        'Description': topic_descs,\n",
    "        'Url': topic_urls\n",
    "}"
   ]
  },
  {
   "cell_type": "code",
   "execution_count": 28,
   "id": "0c8e6813",
   "metadata": {},
   "outputs": [
    {
     "data": {
      "text/plain": [
       "{'Title': ['3D',\n",
       "  'Ajax',\n",
       "  'Algorithm',\n",
       "  'Amp',\n",
       "  'Android',\n",
       "  'Angular',\n",
       "  'Ansible',\n",
       "  'API',\n",
       "  'Arduino',\n",
       "  'ASP.NET',\n",
       "  'Atom',\n",
       "  'Awesome Lists',\n",
       "  'Amazon Web Services',\n",
       "  'Azure',\n",
       "  'Babel',\n",
       "  'Bash',\n",
       "  'Bitcoin',\n",
       "  'Bootstrap',\n",
       "  'Bot',\n",
       "  'C',\n",
       "  'Chrome',\n",
       "  'Chrome extension',\n",
       "  'Command line interface',\n",
       "  'Clojure',\n",
       "  'Code quality',\n",
       "  'Code review',\n",
       "  'Compiler',\n",
       "  'Continuous integration',\n",
       "  'COVID-19',\n",
       "  'C++'],\n",
       " 'Description': ['3D modeling is the process of virtually developing the surface and structure of a 3D object.',\n",
       "  'Ajax is a technique for creating interactive web applications.',\n",
       "  'Algorithms are self-contained sequences that carry out a variety of tasks.',\n",
       "  'Amp is a non-blocking concurrency framework for PHP.',\n",
       "  'Android is an operating system built by Google designed for mobile devices.',\n",
       "  'Angular is an open source web application platform.',\n",
       "  'Ansible is a simple and powerful automation engine.',\n",
       "  'An API (Application Programming Interface) is a collection of protocols and subroutines for building software.',\n",
       "  'Arduino is an open source hardware and software company and maker community.',\n",
       "  'ASP.NET is a web framework for building modern web apps and services.',\n",
       "  'Atom is a open source text editor built with web technologies.',\n",
       "  'An awesome list is a list of awesome things curated by the community.',\n",
       "  'Amazon Web Services provides on-demand cloud computing platforms on a subscription basis.',\n",
       "  'Azure is a cloud computing service created by Microsoft.',\n",
       "  'Babel is a compiler for writing next generation JavaScript, today.',\n",
       "  'Bash is a shell and command language interpreter for the GNU operating system.',\n",
       "  'Bitcoin is a cryptocurrency developed by Satoshi Nakamoto.',\n",
       "  'Bootstrap is an HTML, CSS, and JavaScript framework.',\n",
       "  'A bot is an application that runs automated tasks over the Internet.',\n",
       "  'C is a general purpose programming language that first appeared in 1972.',\n",
       "  'Chrome is a web browser from the tech company Google.',\n",
       "  'Google Chrome Extensions are add-ons that allow users to customize their Chrome web browser.',\n",
       "  'A CLI, or command-line interface, is a console that helps users issue commands to a program.',\n",
       "  'Clojure is a dynamic, general-purpose programming language.',\n",
       "  'Automate your code review with style, quality, security, and test‑coverage checks when you need them.',\n",
       "  'Ensure your code meets quality standards and ship with confidence.',\n",
       "  'Compilers are software that translate higher-level programming languages to lower-level languages (e.g. machine code).',\n",
       "  'Automatically build and test your code as you push it upstream, preventing bugs from being deployed to production.',\n",
       "  'The coronavirus disease 2019 (COVID-19) is an infectious disease caused by SARS-CoV-2.',\n",
       "  'C++ is a general purpose and object-oriented programming language.'],\n",
       " 'Url': ['https://github.com/topics/3d',\n",
       "  'https://github.com/topics/ajax',\n",
       "  'https://github.com/topics/algorithm',\n",
       "  'https://github.com/topics/amphp',\n",
       "  'https://github.com/topics/android',\n",
       "  'https://github.com/topics/angular',\n",
       "  'https://github.com/topics/ansible',\n",
       "  'https://github.com/topics/api',\n",
       "  'https://github.com/topics/arduino',\n",
       "  'https://github.com/topics/aspnet',\n",
       "  'https://github.com/topics/atom',\n",
       "  'https://github.com/topics/awesome',\n",
       "  'https://github.com/topics/aws',\n",
       "  'https://github.com/topics/azure',\n",
       "  'https://github.com/topics/babel',\n",
       "  'https://github.com/topics/bash',\n",
       "  'https://github.com/topics/bitcoin',\n",
       "  'https://github.com/topics/bootstrap',\n",
       "  'https://github.com/topics/bot',\n",
       "  'https://github.com/topics/c',\n",
       "  'https://github.com/topics/chrome',\n",
       "  'https://github.com/topics/chrome-extension',\n",
       "  'https://github.com/topics/cli',\n",
       "  'https://github.com/topics/clojure',\n",
       "  'https://github.com/topics/code-quality',\n",
       "  'https://github.com/topics/code-review',\n",
       "  'https://github.com/topics/compiler',\n",
       "  'https://github.com/topics/continuous-integration',\n",
       "  'https://github.com/topics/covid-19',\n",
       "  'https://github.com/topics/cpp']}"
      ]
     },
     "execution_count": 28,
     "metadata": {},
     "output_type": "execute_result"
    }
   ],
   "source": [
    "topic_dict"
   ]
  },
  {
   "cell_type": "code",
   "execution_count": 29,
   "id": "f2ff6976",
   "metadata": {},
   "outputs": [],
   "source": [
    "topics_df = pd.DataFrame(topic_dict)"
   ]
  },
  {
   "cell_type": "markdown",
   "id": "995280c7",
   "metadata": {},
   "source": [
    "###  j)  Creates a  Dataframe of Titles/topics"
   ]
  },
  {
   "cell_type": "code",
   "execution_count": 30,
   "id": "a38cb0c3",
   "metadata": {},
   "outputs": [
    {
     "data": {
      "text/html": [
       "<div>\n",
       "<style scoped>\n",
       "    .dataframe tbody tr th:only-of-type {\n",
       "        vertical-align: middle;\n",
       "    }\n",
       "\n",
       "    .dataframe tbody tr th {\n",
       "        vertical-align: top;\n",
       "    }\n",
       "\n",
       "    .dataframe thead th {\n",
       "        text-align: right;\n",
       "    }\n",
       "</style>\n",
       "<table border=\"1\" class=\"dataframe\">\n",
       "  <thead>\n",
       "    <tr style=\"text-align: right;\">\n",
       "      <th></th>\n",
       "      <th>Title</th>\n",
       "      <th>Description</th>\n",
       "      <th>Url</th>\n",
       "    </tr>\n",
       "  </thead>\n",
       "  <tbody>\n",
       "    <tr>\n",
       "      <th>0</th>\n",
       "      <td>3D</td>\n",
       "      <td>3D modeling is the process of virtually develo...</td>\n",
       "      <td>https://github.com/topics/3d</td>\n",
       "    </tr>\n",
       "    <tr>\n",
       "      <th>1</th>\n",
       "      <td>Ajax</td>\n",
       "      <td>Ajax is a technique for creating interactive w...</td>\n",
       "      <td>https://github.com/topics/ajax</td>\n",
       "    </tr>\n",
       "    <tr>\n",
       "      <th>2</th>\n",
       "      <td>Algorithm</td>\n",
       "      <td>Algorithms are self-contained sequences that c...</td>\n",
       "      <td>https://github.com/topics/algorithm</td>\n",
       "    </tr>\n",
       "    <tr>\n",
       "      <th>3</th>\n",
       "      <td>Amp</td>\n",
       "      <td>Amp is a non-blocking concurrency framework fo...</td>\n",
       "      <td>https://github.com/topics/amphp</td>\n",
       "    </tr>\n",
       "    <tr>\n",
       "      <th>4</th>\n",
       "      <td>Android</td>\n",
       "      <td>Android is an operating system built by Google...</td>\n",
       "      <td>https://github.com/topics/android</td>\n",
       "    </tr>\n",
       "    <tr>\n",
       "      <th>5</th>\n",
       "      <td>Angular</td>\n",
       "      <td>Angular is an open source web application plat...</td>\n",
       "      <td>https://github.com/topics/angular</td>\n",
       "    </tr>\n",
       "    <tr>\n",
       "      <th>6</th>\n",
       "      <td>Ansible</td>\n",
       "      <td>Ansible is a simple and powerful automation en...</td>\n",
       "      <td>https://github.com/topics/ansible</td>\n",
       "    </tr>\n",
       "    <tr>\n",
       "      <th>7</th>\n",
       "      <td>API</td>\n",
       "      <td>An API (Application Programming Interface) is ...</td>\n",
       "      <td>https://github.com/topics/api</td>\n",
       "    </tr>\n",
       "    <tr>\n",
       "      <th>8</th>\n",
       "      <td>Arduino</td>\n",
       "      <td>Arduino is an open source hardware and softwar...</td>\n",
       "      <td>https://github.com/topics/arduino</td>\n",
       "    </tr>\n",
       "    <tr>\n",
       "      <th>9</th>\n",
       "      <td>ASP.NET</td>\n",
       "      <td>ASP.NET is a web framework for building modern...</td>\n",
       "      <td>https://github.com/topics/aspnet</td>\n",
       "    </tr>\n",
       "    <tr>\n",
       "      <th>10</th>\n",
       "      <td>Atom</td>\n",
       "      <td>Atom is a open source text editor built with w...</td>\n",
       "      <td>https://github.com/topics/atom</td>\n",
       "    </tr>\n",
       "    <tr>\n",
       "      <th>11</th>\n",
       "      <td>Awesome Lists</td>\n",
       "      <td>An awesome list is a list of awesome things cu...</td>\n",
       "      <td>https://github.com/topics/awesome</td>\n",
       "    </tr>\n",
       "    <tr>\n",
       "      <th>12</th>\n",
       "      <td>Amazon Web Services</td>\n",
       "      <td>Amazon Web Services provides on-demand cloud c...</td>\n",
       "      <td>https://github.com/topics/aws</td>\n",
       "    </tr>\n",
       "    <tr>\n",
       "      <th>13</th>\n",
       "      <td>Azure</td>\n",
       "      <td>Azure is a cloud computing service created by ...</td>\n",
       "      <td>https://github.com/topics/azure</td>\n",
       "    </tr>\n",
       "    <tr>\n",
       "      <th>14</th>\n",
       "      <td>Babel</td>\n",
       "      <td>Babel is a compiler for writing next generatio...</td>\n",
       "      <td>https://github.com/topics/babel</td>\n",
       "    </tr>\n",
       "    <tr>\n",
       "      <th>15</th>\n",
       "      <td>Bash</td>\n",
       "      <td>Bash is a shell and command language interpret...</td>\n",
       "      <td>https://github.com/topics/bash</td>\n",
       "    </tr>\n",
       "    <tr>\n",
       "      <th>16</th>\n",
       "      <td>Bitcoin</td>\n",
       "      <td>Bitcoin is a cryptocurrency developed by Satos...</td>\n",
       "      <td>https://github.com/topics/bitcoin</td>\n",
       "    </tr>\n",
       "    <tr>\n",
       "      <th>17</th>\n",
       "      <td>Bootstrap</td>\n",
       "      <td>Bootstrap is an HTML, CSS, and JavaScript fram...</td>\n",
       "      <td>https://github.com/topics/bootstrap</td>\n",
       "    </tr>\n",
       "    <tr>\n",
       "      <th>18</th>\n",
       "      <td>Bot</td>\n",
       "      <td>A bot is an application that runs automated ta...</td>\n",
       "      <td>https://github.com/topics/bot</td>\n",
       "    </tr>\n",
       "    <tr>\n",
       "      <th>19</th>\n",
       "      <td>C</td>\n",
       "      <td>C is a general purpose programming language th...</td>\n",
       "      <td>https://github.com/topics/c</td>\n",
       "    </tr>\n",
       "    <tr>\n",
       "      <th>20</th>\n",
       "      <td>Chrome</td>\n",
       "      <td>Chrome is a web browser from the tech company ...</td>\n",
       "      <td>https://github.com/topics/chrome</td>\n",
       "    </tr>\n",
       "    <tr>\n",
       "      <th>21</th>\n",
       "      <td>Chrome extension</td>\n",
       "      <td>Google Chrome Extensions are add-ons that allo...</td>\n",
       "      <td>https://github.com/topics/chrome-extension</td>\n",
       "    </tr>\n",
       "    <tr>\n",
       "      <th>22</th>\n",
       "      <td>Command line interface</td>\n",
       "      <td>A CLI, or command-line interface, is a console...</td>\n",
       "      <td>https://github.com/topics/cli</td>\n",
       "    </tr>\n",
       "    <tr>\n",
       "      <th>23</th>\n",
       "      <td>Clojure</td>\n",
       "      <td>Clojure is a dynamic, general-purpose programm...</td>\n",
       "      <td>https://github.com/topics/clojure</td>\n",
       "    </tr>\n",
       "    <tr>\n",
       "      <th>24</th>\n",
       "      <td>Code quality</td>\n",
       "      <td>Automate your code review with style, quality,...</td>\n",
       "      <td>https://github.com/topics/code-quality</td>\n",
       "    </tr>\n",
       "    <tr>\n",
       "      <th>25</th>\n",
       "      <td>Code review</td>\n",
       "      <td>Ensure your code meets quality standards and s...</td>\n",
       "      <td>https://github.com/topics/code-review</td>\n",
       "    </tr>\n",
       "    <tr>\n",
       "      <th>26</th>\n",
       "      <td>Compiler</td>\n",
       "      <td>Compilers are software that translate higher-l...</td>\n",
       "      <td>https://github.com/topics/compiler</td>\n",
       "    </tr>\n",
       "    <tr>\n",
       "      <th>27</th>\n",
       "      <td>Continuous integration</td>\n",
       "      <td>Automatically build and test your code as you ...</td>\n",
       "      <td>https://github.com/topics/continuous-integration</td>\n",
       "    </tr>\n",
       "    <tr>\n",
       "      <th>28</th>\n",
       "      <td>COVID-19</td>\n",
       "      <td>The coronavirus disease 2019 (COVID-19) is an ...</td>\n",
       "      <td>https://github.com/topics/covid-19</td>\n",
       "    </tr>\n",
       "    <tr>\n",
       "      <th>29</th>\n",
       "      <td>C++</td>\n",
       "      <td>C++ is a general purpose and object-oriented p...</td>\n",
       "      <td>https://github.com/topics/cpp</td>\n",
       "    </tr>\n",
       "  </tbody>\n",
       "</table>\n",
       "</div>"
      ],
      "text/plain": [
       "                     Title                                        Description  \\\n",
       "0                       3D  3D modeling is the process of virtually develo...   \n",
       "1                     Ajax  Ajax is a technique for creating interactive w...   \n",
       "2                Algorithm  Algorithms are self-contained sequences that c...   \n",
       "3                      Amp  Amp is a non-blocking concurrency framework fo...   \n",
       "4                  Android  Android is an operating system built by Google...   \n",
       "5                  Angular  Angular is an open source web application plat...   \n",
       "6                  Ansible  Ansible is a simple and powerful automation en...   \n",
       "7                      API  An API (Application Programming Interface) is ...   \n",
       "8                  Arduino  Arduino is an open source hardware and softwar...   \n",
       "9                  ASP.NET  ASP.NET is a web framework for building modern...   \n",
       "10                    Atom  Atom is a open source text editor built with w...   \n",
       "11           Awesome Lists  An awesome list is a list of awesome things cu...   \n",
       "12     Amazon Web Services  Amazon Web Services provides on-demand cloud c...   \n",
       "13                   Azure  Azure is a cloud computing service created by ...   \n",
       "14                   Babel  Babel is a compiler for writing next generatio...   \n",
       "15                    Bash  Bash is a shell and command language interpret...   \n",
       "16                 Bitcoin  Bitcoin is a cryptocurrency developed by Satos...   \n",
       "17               Bootstrap  Bootstrap is an HTML, CSS, and JavaScript fram...   \n",
       "18                     Bot  A bot is an application that runs automated ta...   \n",
       "19                       C  C is a general purpose programming language th...   \n",
       "20                  Chrome  Chrome is a web browser from the tech company ...   \n",
       "21        Chrome extension  Google Chrome Extensions are add-ons that allo...   \n",
       "22  Command line interface  A CLI, or command-line interface, is a console...   \n",
       "23                 Clojure  Clojure is a dynamic, general-purpose programm...   \n",
       "24            Code quality  Automate your code review with style, quality,...   \n",
       "25             Code review  Ensure your code meets quality standards and s...   \n",
       "26                Compiler  Compilers are software that translate higher-l...   \n",
       "27  Continuous integration  Automatically build and test your code as you ...   \n",
       "28                COVID-19  The coronavirus disease 2019 (COVID-19) is an ...   \n",
       "29                     C++  C++ is a general purpose and object-oriented p...   \n",
       "\n",
       "                                                 Url  \n",
       "0                       https://github.com/topics/3d  \n",
       "1                     https://github.com/topics/ajax  \n",
       "2                https://github.com/topics/algorithm  \n",
       "3                    https://github.com/topics/amphp  \n",
       "4                  https://github.com/topics/android  \n",
       "5                  https://github.com/topics/angular  \n",
       "6                  https://github.com/topics/ansible  \n",
       "7                      https://github.com/topics/api  \n",
       "8                  https://github.com/topics/arduino  \n",
       "9                   https://github.com/topics/aspnet  \n",
       "10                    https://github.com/topics/atom  \n",
       "11                 https://github.com/topics/awesome  \n",
       "12                     https://github.com/topics/aws  \n",
       "13                   https://github.com/topics/azure  \n",
       "14                   https://github.com/topics/babel  \n",
       "15                    https://github.com/topics/bash  \n",
       "16                 https://github.com/topics/bitcoin  \n",
       "17               https://github.com/topics/bootstrap  \n",
       "18                     https://github.com/topics/bot  \n",
       "19                       https://github.com/topics/c  \n",
       "20                  https://github.com/topics/chrome  \n",
       "21        https://github.com/topics/chrome-extension  \n",
       "22                     https://github.com/topics/cli  \n",
       "23                 https://github.com/topics/clojure  \n",
       "24            https://github.com/topics/code-quality  \n",
       "25             https://github.com/topics/code-review  \n",
       "26                https://github.com/topics/compiler  \n",
       "27  https://github.com/topics/continuous-integration  \n",
       "28                https://github.com/topics/covid-19  \n",
       "29                     https://github.com/topics/cpp  "
      ]
     },
     "execution_count": 30,
     "metadata": {},
     "output_type": "execute_result"
    }
   ],
   "source": [
    "topics_df"
   ]
  },
  {
   "cell_type": "markdown",
   "id": "b213b8a3",
   "metadata": {},
   "source": [
    "###  k) Creates a CSV file containing the list of titles with description and their urls"
   ]
  },
  {
   "cell_type": "code",
   "execution_count": 31,
   "id": "5302e40d",
   "metadata": {},
   "outputs": [],
   "source": [
    "topics_df.to_csv('github.csv', index= None)"
   ]
  },
  {
   "cell_type": "markdown",
   "id": "990b74e3",
   "metadata": {},
   "source": [
    "## Sub Part - 1.(B)"
   ]
  },
  {
   "cell_type": "markdown",
   "id": "7b02a1f8",
   "metadata": {},
   "source": [
    "##  Getting Information out of a Title/Topic page"
   ]
  },
  {
   "cell_type": "markdown",
   "id": "1693eefc",
   "metadata": {},
   "source": [
    "###   a)  Uses first topics page url and parses it"
   ]
  },
  {
   "cell_type": "code",
   "execution_count": 32,
   "id": "6a221a7d",
   "metadata": {},
   "outputs": [],
   "source": [
    "topic_page_url = topic_urls[0]"
   ]
  },
  {
   "cell_type": "code",
   "execution_count": 33,
   "id": "74e15e96",
   "metadata": {},
   "outputs": [
    {
     "data": {
      "text/plain": [
       "'https://github.com/topics/3d'"
      ]
     },
     "execution_count": 33,
     "metadata": {},
     "output_type": "execute_result"
    }
   ],
   "source": [
    "topic_page_url"
   ]
  },
  {
   "cell_type": "code",
   "execution_count": 34,
   "id": "ba9631c4",
   "metadata": {},
   "outputs": [],
   "source": [
    "response = requests.get(topic_page_url)"
   ]
  },
  {
   "cell_type": "code",
   "execution_count": 35,
   "id": "e861f386",
   "metadata": {},
   "outputs": [
    {
     "data": {
      "text/plain": [
       "200"
      ]
     },
     "execution_count": 35,
     "metadata": {},
     "output_type": "execute_result"
    }
   ],
   "source": [
    "response.status_code"
   ]
  },
  {
   "cell_type": "code",
   "execution_count": 36,
   "id": "cc48c962",
   "metadata": {},
   "outputs": [
    {
     "data": {
      "text/plain": [
       "614872"
      ]
     },
     "execution_count": 36,
     "metadata": {},
     "output_type": "execute_result"
    }
   ],
   "source": [
    "len(response.text)"
   ]
  },
  {
   "cell_type": "code",
   "execution_count": 37,
   "id": "4a69975d",
   "metadata": {},
   "outputs": [],
   "source": [
    "parsed_topic_doc = BeautifulSoup(response.text, 'html.parser')"
   ]
  },
  {
   "cell_type": "markdown",
   "id": "4576106f",
   "metadata": {},
   "source": [
    "###  b)  Parsing its Repository Tag"
   ]
  },
  {
   "cell_type": "code",
   "execution_count": 38,
   "id": "46c17a49",
   "metadata": {},
   "outputs": [],
   "source": [
    "information_class =\"f3 color-text-secondary text-normal lh-condensed\"\n",
    "\n",
    "repstry_tags = parsed_topic_doc.find_all( 'h3', {'class': information_class})"
   ]
  },
  {
   "cell_type": "code",
   "execution_count": 39,
   "id": "9137d1de",
   "metadata": {},
   "outputs": [
    {
     "data": {
      "text/plain": [
       "30"
      ]
     },
     "execution_count": 39,
     "metadata": {},
     "output_type": "execute_result"
    }
   ],
   "source": [
    "len(repstry_tags)"
   ]
  },
  {
   "cell_type": "code",
   "execution_count": 40,
   "id": "e4b8b19c",
   "metadata": {},
   "outputs": [
    {
     "data": {
      "text/plain": [
       "<h3 class=\"f3 color-text-secondary text-normal lh-condensed\">\n",
       "<a data-ga-click=\"Explore, go to repository owner, location:explore feed\" data-hydro-click='{\"event_type\":\"explore.click\",\"payload\":{\"click_context\":\"REPOSITORY_CARD\",\"click_target\":\"OWNER\",\"click_visual_representation\":\"REPOSITORY_OWNER_HEADING\",\"actor_id\":null,\"record_id\":97088,\"originating_url\":\"https://github.com/topics/3d\",\"user_id\":null}}' data-hydro-click-hmac=\"4bdbc49d3c05ae7f70b531fbce709a384200b0768554e0172950286a8db30940\" data-view-component=\"true\" href=\"/mrdoob\">\n",
       "            mrdoob\n",
       "</a>          /\n",
       "          <a class=\"text-bold\" data-ga-click=\"Explore, go to repository, location:explore feed\" data-hydro-click='{\"event_type\":\"explore.click\",\"payload\":{\"click_context\":\"REPOSITORY_CARD\",\"click_target\":\"REPOSITORY\",\"click_visual_representation\":\"REPOSITORY_NAME_HEADING\",\"actor_id\":null,\"record_id\":576201,\"originating_url\":\"https://github.com/topics/3d\",\"user_id\":null}}' data-hydro-click-hmac=\"517d3d5cb9d89752156923904a4238816bc9b51ab7772f3e3644ce897d8dd4e5\" data-view-component=\"true\" href=\"/mrdoob/three.js\">\n",
       "            three.js\n",
       "</a> </h3>"
      ]
     },
     "execution_count": 40,
     "metadata": {},
     "output_type": "execute_result"
    }
   ],
   "source": [
    "repstry_tags[0]"
   ]
  },
  {
   "cell_type": "code",
   "execution_count": 41,
   "id": "90b995e2",
   "metadata": {},
   "outputs": [],
   "source": [
    "a_tags = repstry_tags[0].find_all('a')"
   ]
  },
  {
   "cell_type": "code",
   "execution_count": 42,
   "id": "343fe3ce",
   "metadata": {},
   "outputs": [
    {
     "data": {
      "text/plain": [
       "<a data-ga-click=\"Explore, go to repository owner, location:explore feed\" data-hydro-click='{\"event_type\":\"explore.click\",\"payload\":{\"click_context\":\"REPOSITORY_CARD\",\"click_target\":\"OWNER\",\"click_visual_representation\":\"REPOSITORY_OWNER_HEADING\",\"actor_id\":null,\"record_id\":97088,\"originating_url\":\"https://github.com/topics/3d\",\"user_id\":null}}' data-hydro-click-hmac=\"4bdbc49d3c05ae7f70b531fbce709a384200b0768554e0172950286a8db30940\" data-view-component=\"true\" href=\"/mrdoob\">\n",
       "            mrdoob\n",
       "</a>"
      ]
     },
     "execution_count": 42,
     "metadata": {},
     "output_type": "execute_result"
    }
   ],
   "source": [
    "a_tags[0]"
   ]
  },
  {
   "cell_type": "code",
   "execution_count": 43,
   "id": "e78687b7",
   "metadata": {},
   "outputs": [
    {
     "data": {
      "text/plain": [
       "'mrdoob'"
      ]
     },
     "execution_count": 43,
     "metadata": {},
     "output_type": "execute_result"
    }
   ],
   "source": [
    "a_tags[0].text.strip()"
   ]
  },
  {
   "cell_type": "code",
   "execution_count": 44,
   "id": "fa7c53d8",
   "metadata": {},
   "outputs": [
    {
     "data": {
      "text/plain": [
       "'three.js'"
      ]
     },
     "execution_count": 44,
     "metadata": {},
     "output_type": "execute_result"
    }
   ],
   "source": [
    "a_tags[1].text.strip()"
   ]
  },
  {
   "cell_type": "markdown",
   "id": "cd376849",
   "metadata": {},
   "source": [
    "###  c)  Parses its repository url"
   ]
  },
  {
   "cell_type": "code",
   "execution_count": 45,
   "id": "0dd9cd14",
   "metadata": {},
   "outputs": [],
   "source": [
    "base_url = 'https://github.com'\n",
    "repstry_url = base_url + a_tags[1]['href']"
   ]
  },
  {
   "cell_type": "code",
   "execution_count": 46,
   "id": "f12fc25d",
   "metadata": {},
   "outputs": [
    {
     "data": {
      "text/plain": [
       "'https://github.com/mrdoob/three.js'"
      ]
     },
     "execution_count": 46,
     "metadata": {},
     "output_type": "execute_result"
    }
   ],
   "source": [
    "repstry_url"
   ]
  },
  {
   "cell_type": "code",
   "execution_count": 47,
   "id": "77c9e9ae",
   "metadata": {},
   "outputs": [
    {
     "name": "stdout",
     "output_type": "stream",
     "text": [
      "https://github.com/mrdoob/three.js\n"
     ]
    }
   ],
   "source": [
    "print(repstry_url)"
   ]
  },
  {
   "cell_type": "markdown",
   "id": "13e32a5f",
   "metadata": {},
   "source": [
    "###  d)  Parsing repositories star rating"
   ]
  },
  {
   "cell_type": "code",
   "execution_count": 48,
   "id": "47e435dd",
   "metadata": {},
   "outputs": [],
   "source": [
    "star_rating_class = \"social-count float-none\"\n",
    "star_rating_tags = parsed_topic_doc.find_all('a',{'class': star_rating_class})"
   ]
  },
  {
   "cell_type": "code",
   "execution_count": 49,
   "id": "eb349573",
   "metadata": {},
   "outputs": [
    {
     "data": {
      "text/plain": [
       "30"
      ]
     },
     "execution_count": 49,
     "metadata": {},
     "output_type": "execute_result"
    }
   ],
   "source": [
    "len(star_rating_tags)"
   ]
  },
  {
   "cell_type": "code",
   "execution_count": 50,
   "id": "6fffabd5",
   "metadata": {},
   "outputs": [
    {
     "data": {
      "text/plain": [
       "'73.1k'"
      ]
     },
     "execution_count": 50,
     "metadata": {},
     "output_type": "execute_result"
    }
   ],
   "source": [
    "star_rating_tags[0].text.strip()"
   ]
  },
  {
   "cell_type": "markdown",
   "id": "25498da7",
   "metadata": {},
   "source": [
    "###  e)  Converts star ratings from string to number"
   ]
  },
  {
   "cell_type": "code",
   "execution_count": 51,
   "id": "93dc7183",
   "metadata": {},
   "outputs": [],
   "source": [
    "def parse_star_count(stars_str):\n",
    "        stars_str = stars_str.strip()\n",
    "        if stars_str[-1] == 'k':\n",
    "            return int(float(stars_str[:-1]) * 1000)\n",
    "        else:\n",
    "            return int(stars_str)"
   ]
  },
  {
   "cell_type": "code",
   "execution_count": 52,
   "id": "66c4af6c",
   "metadata": {},
   "outputs": [
    {
     "data": {
      "text/plain": [
       "73100"
      ]
     },
     "execution_count": 52,
     "metadata": {},
     "output_type": "execute_result"
    }
   ],
   "source": [
    "parse_star_count(star_rating_tags[0].text)"
   ]
  },
  {
   "cell_type": "code",
   "execution_count": null,
   "id": "6f0138be",
   "metadata": {},
   "outputs": [],
   "source": []
  },
  {
   "cell_type": "markdown",
   "id": "08f03489",
   "metadata": {},
   "source": [
    "###  f)  Function to fetch repositories informations of the first Topic/Title"
   ]
  },
  {
   "cell_type": "code",
   "execution_count": 53,
   "id": "ac910861",
   "metadata": {},
   "outputs": [],
   "source": [
    "def get_repstry_info(repstry_tags, star_rating_tags):\n",
    "    # returns all the required info about a repository\n",
    "    a_tags = repstry_tags.find_all('a')\n",
    "    username = a_tags[0].text.strip()\n",
    "    repstry_name = a_tags[1].text.strip()\n",
    "    repo_url = base_url + a_tags[1]['href']\n",
    "    stars = parse_star_count(star_rating_tags.text.strip())\n",
    "    return username, repstry_name, stars, repo_url\n",
    "    "
   ]
  },
  {
   "cell_type": "code",
   "execution_count": 54,
   "id": "d9141b4f",
   "metadata": {},
   "outputs": [
    {
     "data": {
      "text/plain": [
       "('mrdoob', 'three.js', 73100, 'https://github.com/mrdoob/three.js')"
      ]
     },
     "execution_count": 54,
     "metadata": {},
     "output_type": "execute_result"
    }
   ],
   "source": [
    "get_repstry_info(repstry_tags[0], star_rating_tags[0])"
   ]
  },
  {
   "cell_type": "markdown",
   "id": "279c27fc",
   "metadata": {},
   "source": [
    "### g)  Function to create a dictionary containing list of repositories and their informations of the first Topic/Title"
   ]
  },
  {
   "cell_type": "code",
   "execution_count": 55,
   "id": "95c0a459",
   "metadata": {},
   "outputs": [],
   "source": [
    "topic_repstry_dict = {\n",
    "    'Username': [],\n",
    "    'Repstry_Name': [],\n",
    "    'Stars': [],\n",
    "    'Repstry_url': []\n",
    "}\n",
    "\n",
    "for i in range(len(repstry_tags)):\n",
    "    repstry_info = get_repstry_info(repstry_tags[i], star_rating_tags[i])\n",
    "    topic_repstry_dict['Username'].append(repstry_info[0])\n",
    "    topic_repstry_dict['Repstry_Name'].append(repstry_info[1])\n",
    "    topic_repstry_dict['Stars'].append(repstry_info[2])\n",
    "    topic_repstry_dict['Repstry_url'].append(repstry_info[3])\n",
    "    "
   ]
  },
  {
   "cell_type": "code",
   "execution_count": 56,
   "id": "d0de9126",
   "metadata": {},
   "outputs": [
    {
     "data": {
      "text/plain": [
       "{'Username': ['mrdoob',\n",
       "  'libgdx',\n",
       "  'BabylonJS',\n",
       "  'pmndrs',\n",
       "  'aframevr',\n",
       "  'ssloy',\n",
       "  'lettier',\n",
       "  'FreeCAD',\n",
       "  'metafizzy',\n",
       "  'CesiumGS',\n",
       "  'timzhang642',\n",
       "  'a1studmuffin',\n",
       "  'isl-org',\n",
       "  'spritejs',\n",
       "  'tensorspace-team',\n",
       "  'jagenjo',\n",
       "  'YadiraF',\n",
       "  'AaronJackson',\n",
       "  'openscad',\n",
       "  'domlysz',\n",
       "  'ssloy',\n",
       "  'mosra',\n",
       "  'google',\n",
       "  'gfxfundamentals',\n",
       "  'blender',\n",
       "  'cleardusk',\n",
       "  'jasonlong',\n",
       "  'antvis',\n",
       "  'cnr-isti-vclab',\n",
       "  'pissang'],\n",
       " 'Repstry_Name': ['three.js',\n",
       "  'libgdx',\n",
       "  'Babylon.js',\n",
       "  'react-three-fiber',\n",
       "  'aframe',\n",
       "  'tinyrenderer',\n",
       "  '3d-game-shaders-for-beginners',\n",
       "  'FreeCAD',\n",
       "  'zdog',\n",
       "  'cesium',\n",
       "  '3D-Machine-Learning',\n",
       "  'SpaceshipGenerator',\n",
       "  'Open3D',\n",
       "  'spritejs',\n",
       "  'tensorspace',\n",
       "  'webglstudio.js',\n",
       "  'PRNet',\n",
       "  'vrn',\n",
       "  'openscad',\n",
       "  'BlenderGIS',\n",
       "  'tinyraytracer',\n",
       "  'magnum',\n",
       "  'model-viewer',\n",
       "  'webgl-fundamentals',\n",
       "  'blender',\n",
       "  '3DDFA',\n",
       "  'isometric-contributions',\n",
       "  'L7',\n",
       "  'meshlab',\n",
       "  'claygl'],\n",
       " 'Stars': [73100,\n",
       "  18700,\n",
       "  14500,\n",
       "  14100,\n",
       "  12900,\n",
       "  11000,\n",
       "  10800,\n",
       "  9600,\n",
       "  8600,\n",
       "  7300,\n",
       "  6900,\n",
       "  6800,\n",
       "  4900,\n",
       "  4600,\n",
       "  4500,\n",
       "  4400,\n",
       "  4400,\n",
       "  4400,\n",
       "  4100,\n",
       "  4100,\n",
       "  3800,\n",
       "  3600,\n",
       "  3200,\n",
       "  3100,\n",
       "  3100,\n",
       "  3000,\n",
       "  3000,\n",
       "  2400,\n",
       "  2300,\n",
       "  2300],\n",
       " 'Repstry_url': ['https://github.com/mrdoob/three.js',\n",
       "  'https://github.com/libgdx/libgdx',\n",
       "  'https://github.com/BabylonJS/Babylon.js',\n",
       "  'https://github.com/pmndrs/react-three-fiber',\n",
       "  'https://github.com/aframevr/aframe',\n",
       "  'https://github.com/ssloy/tinyrenderer',\n",
       "  'https://github.com/lettier/3d-game-shaders-for-beginners',\n",
       "  'https://github.com/FreeCAD/FreeCAD',\n",
       "  'https://github.com/metafizzy/zdog',\n",
       "  'https://github.com/CesiumGS/cesium',\n",
       "  'https://github.com/timzhang642/3D-Machine-Learning',\n",
       "  'https://github.com/a1studmuffin/SpaceshipGenerator',\n",
       "  'https://github.com/isl-org/Open3D',\n",
       "  'https://github.com/spritejs/spritejs',\n",
       "  'https://github.com/tensorspace-team/tensorspace',\n",
       "  'https://github.com/jagenjo/webglstudio.js',\n",
       "  'https://github.com/YadiraF/PRNet',\n",
       "  'https://github.com/AaronJackson/vrn',\n",
       "  'https://github.com/openscad/openscad',\n",
       "  'https://github.com/domlysz/BlenderGIS',\n",
       "  'https://github.com/ssloy/tinyraytracer',\n",
       "  'https://github.com/mosra/magnum',\n",
       "  'https://github.com/google/model-viewer',\n",
       "  'https://github.com/gfxfundamentals/webgl-fundamentals',\n",
       "  'https://github.com/blender/blender',\n",
       "  'https://github.com/cleardusk/3DDFA',\n",
       "  'https://github.com/jasonlong/isometric-contributions',\n",
       "  'https://github.com/antvis/L7',\n",
       "  'https://github.com/cnr-isti-vclab/meshlab',\n",
       "  'https://github.com/pissang/claygl']}"
      ]
     },
     "execution_count": 56,
     "metadata": {},
     "output_type": "execute_result"
    }
   ],
   "source": [
    "topic_repstry_dict"
   ]
  },
  {
   "cell_type": "code",
   "execution_count": 57,
   "id": "d9aff02c",
   "metadata": {},
   "outputs": [],
   "source": [
    "topic_repstry_df = pd.DataFrame(topic_repstry_dict)"
   ]
  },
  {
   "cell_type": "markdown",
   "id": "4b11a3e7",
   "metadata": {},
   "source": [
    "###  h)  Creates Dataframe containing repositories of the first Title/Topic"
   ]
  },
  {
   "cell_type": "code",
   "execution_count": 58,
   "id": "24d04ca2",
   "metadata": {},
   "outputs": [
    {
     "data": {
      "text/html": [
       "<div>\n",
       "<style scoped>\n",
       "    .dataframe tbody tr th:only-of-type {\n",
       "        vertical-align: middle;\n",
       "    }\n",
       "\n",
       "    .dataframe tbody tr th {\n",
       "        vertical-align: top;\n",
       "    }\n",
       "\n",
       "    .dataframe thead th {\n",
       "        text-align: right;\n",
       "    }\n",
       "</style>\n",
       "<table border=\"1\" class=\"dataframe\">\n",
       "  <thead>\n",
       "    <tr style=\"text-align: right;\">\n",
       "      <th></th>\n",
       "      <th>Username</th>\n",
       "      <th>Repstry_Name</th>\n",
       "      <th>Stars</th>\n",
       "      <th>Repstry_url</th>\n",
       "    </tr>\n",
       "  </thead>\n",
       "  <tbody>\n",
       "    <tr>\n",
       "      <th>0</th>\n",
       "      <td>mrdoob</td>\n",
       "      <td>three.js</td>\n",
       "      <td>73100</td>\n",
       "      <td>https://github.com/mrdoob/three.js</td>\n",
       "    </tr>\n",
       "    <tr>\n",
       "      <th>1</th>\n",
       "      <td>libgdx</td>\n",
       "      <td>libgdx</td>\n",
       "      <td>18700</td>\n",
       "      <td>https://github.com/libgdx/libgdx</td>\n",
       "    </tr>\n",
       "    <tr>\n",
       "      <th>2</th>\n",
       "      <td>BabylonJS</td>\n",
       "      <td>Babylon.js</td>\n",
       "      <td>14500</td>\n",
       "      <td>https://github.com/BabylonJS/Babylon.js</td>\n",
       "    </tr>\n",
       "    <tr>\n",
       "      <th>3</th>\n",
       "      <td>pmndrs</td>\n",
       "      <td>react-three-fiber</td>\n",
       "      <td>14100</td>\n",
       "      <td>https://github.com/pmndrs/react-three-fiber</td>\n",
       "    </tr>\n",
       "    <tr>\n",
       "      <th>4</th>\n",
       "      <td>aframevr</td>\n",
       "      <td>aframe</td>\n",
       "      <td>12900</td>\n",
       "      <td>https://github.com/aframevr/aframe</td>\n",
       "    </tr>\n",
       "    <tr>\n",
       "      <th>5</th>\n",
       "      <td>ssloy</td>\n",
       "      <td>tinyrenderer</td>\n",
       "      <td>11000</td>\n",
       "      <td>https://github.com/ssloy/tinyrenderer</td>\n",
       "    </tr>\n",
       "    <tr>\n",
       "      <th>6</th>\n",
       "      <td>lettier</td>\n",
       "      <td>3d-game-shaders-for-beginners</td>\n",
       "      <td>10800</td>\n",
       "      <td>https://github.com/lettier/3d-game-shaders-for...</td>\n",
       "    </tr>\n",
       "    <tr>\n",
       "      <th>7</th>\n",
       "      <td>FreeCAD</td>\n",
       "      <td>FreeCAD</td>\n",
       "      <td>9600</td>\n",
       "      <td>https://github.com/FreeCAD/FreeCAD</td>\n",
       "    </tr>\n",
       "    <tr>\n",
       "      <th>8</th>\n",
       "      <td>metafizzy</td>\n",
       "      <td>zdog</td>\n",
       "      <td>8600</td>\n",
       "      <td>https://github.com/metafizzy/zdog</td>\n",
       "    </tr>\n",
       "    <tr>\n",
       "      <th>9</th>\n",
       "      <td>CesiumGS</td>\n",
       "      <td>cesium</td>\n",
       "      <td>7300</td>\n",
       "      <td>https://github.com/CesiumGS/cesium</td>\n",
       "    </tr>\n",
       "    <tr>\n",
       "      <th>10</th>\n",
       "      <td>timzhang642</td>\n",
       "      <td>3D-Machine-Learning</td>\n",
       "      <td>6900</td>\n",
       "      <td>https://github.com/timzhang642/3D-Machine-Lear...</td>\n",
       "    </tr>\n",
       "    <tr>\n",
       "      <th>11</th>\n",
       "      <td>a1studmuffin</td>\n",
       "      <td>SpaceshipGenerator</td>\n",
       "      <td>6800</td>\n",
       "      <td>https://github.com/a1studmuffin/SpaceshipGener...</td>\n",
       "    </tr>\n",
       "    <tr>\n",
       "      <th>12</th>\n",
       "      <td>isl-org</td>\n",
       "      <td>Open3D</td>\n",
       "      <td>4900</td>\n",
       "      <td>https://github.com/isl-org/Open3D</td>\n",
       "    </tr>\n",
       "    <tr>\n",
       "      <th>13</th>\n",
       "      <td>spritejs</td>\n",
       "      <td>spritejs</td>\n",
       "      <td>4600</td>\n",
       "      <td>https://github.com/spritejs/spritejs</td>\n",
       "    </tr>\n",
       "    <tr>\n",
       "      <th>14</th>\n",
       "      <td>tensorspace-team</td>\n",
       "      <td>tensorspace</td>\n",
       "      <td>4500</td>\n",
       "      <td>https://github.com/tensorspace-team/tensorspace</td>\n",
       "    </tr>\n",
       "    <tr>\n",
       "      <th>15</th>\n",
       "      <td>jagenjo</td>\n",
       "      <td>webglstudio.js</td>\n",
       "      <td>4400</td>\n",
       "      <td>https://github.com/jagenjo/webglstudio.js</td>\n",
       "    </tr>\n",
       "    <tr>\n",
       "      <th>16</th>\n",
       "      <td>YadiraF</td>\n",
       "      <td>PRNet</td>\n",
       "      <td>4400</td>\n",
       "      <td>https://github.com/YadiraF/PRNet</td>\n",
       "    </tr>\n",
       "    <tr>\n",
       "      <th>17</th>\n",
       "      <td>AaronJackson</td>\n",
       "      <td>vrn</td>\n",
       "      <td>4400</td>\n",
       "      <td>https://github.com/AaronJackson/vrn</td>\n",
       "    </tr>\n",
       "    <tr>\n",
       "      <th>18</th>\n",
       "      <td>openscad</td>\n",
       "      <td>openscad</td>\n",
       "      <td>4100</td>\n",
       "      <td>https://github.com/openscad/openscad</td>\n",
       "    </tr>\n",
       "    <tr>\n",
       "      <th>19</th>\n",
       "      <td>domlysz</td>\n",
       "      <td>BlenderGIS</td>\n",
       "      <td>4100</td>\n",
       "      <td>https://github.com/domlysz/BlenderGIS</td>\n",
       "    </tr>\n",
       "    <tr>\n",
       "      <th>20</th>\n",
       "      <td>ssloy</td>\n",
       "      <td>tinyraytracer</td>\n",
       "      <td>3800</td>\n",
       "      <td>https://github.com/ssloy/tinyraytracer</td>\n",
       "    </tr>\n",
       "    <tr>\n",
       "      <th>21</th>\n",
       "      <td>mosra</td>\n",
       "      <td>magnum</td>\n",
       "      <td>3600</td>\n",
       "      <td>https://github.com/mosra/magnum</td>\n",
       "    </tr>\n",
       "    <tr>\n",
       "      <th>22</th>\n",
       "      <td>google</td>\n",
       "      <td>model-viewer</td>\n",
       "      <td>3200</td>\n",
       "      <td>https://github.com/google/model-viewer</td>\n",
       "    </tr>\n",
       "    <tr>\n",
       "      <th>23</th>\n",
       "      <td>gfxfundamentals</td>\n",
       "      <td>webgl-fundamentals</td>\n",
       "      <td>3100</td>\n",
       "      <td>https://github.com/gfxfundamentals/webgl-funda...</td>\n",
       "    </tr>\n",
       "    <tr>\n",
       "      <th>24</th>\n",
       "      <td>blender</td>\n",
       "      <td>blender</td>\n",
       "      <td>3100</td>\n",
       "      <td>https://github.com/blender/blender</td>\n",
       "    </tr>\n",
       "    <tr>\n",
       "      <th>25</th>\n",
       "      <td>cleardusk</td>\n",
       "      <td>3DDFA</td>\n",
       "      <td>3000</td>\n",
       "      <td>https://github.com/cleardusk/3DDFA</td>\n",
       "    </tr>\n",
       "    <tr>\n",
       "      <th>26</th>\n",
       "      <td>jasonlong</td>\n",
       "      <td>isometric-contributions</td>\n",
       "      <td>3000</td>\n",
       "      <td>https://github.com/jasonlong/isometric-contrib...</td>\n",
       "    </tr>\n",
       "    <tr>\n",
       "      <th>27</th>\n",
       "      <td>antvis</td>\n",
       "      <td>L7</td>\n",
       "      <td>2400</td>\n",
       "      <td>https://github.com/antvis/L7</td>\n",
       "    </tr>\n",
       "    <tr>\n",
       "      <th>28</th>\n",
       "      <td>cnr-isti-vclab</td>\n",
       "      <td>meshlab</td>\n",
       "      <td>2300</td>\n",
       "      <td>https://github.com/cnr-isti-vclab/meshlab</td>\n",
       "    </tr>\n",
       "    <tr>\n",
       "      <th>29</th>\n",
       "      <td>pissang</td>\n",
       "      <td>claygl</td>\n",
       "      <td>2300</td>\n",
       "      <td>https://github.com/pissang/claygl</td>\n",
       "    </tr>\n",
       "  </tbody>\n",
       "</table>\n",
       "</div>"
      ],
      "text/plain": [
       "            Username                   Repstry_Name  Stars  \\\n",
       "0             mrdoob                       three.js  73100   \n",
       "1             libgdx                         libgdx  18700   \n",
       "2          BabylonJS                     Babylon.js  14500   \n",
       "3             pmndrs              react-three-fiber  14100   \n",
       "4           aframevr                         aframe  12900   \n",
       "5              ssloy                   tinyrenderer  11000   \n",
       "6            lettier  3d-game-shaders-for-beginners  10800   \n",
       "7            FreeCAD                        FreeCAD   9600   \n",
       "8          metafizzy                           zdog   8600   \n",
       "9           CesiumGS                         cesium   7300   \n",
       "10       timzhang642            3D-Machine-Learning   6900   \n",
       "11      a1studmuffin             SpaceshipGenerator   6800   \n",
       "12           isl-org                         Open3D   4900   \n",
       "13          spritejs                       spritejs   4600   \n",
       "14  tensorspace-team                    tensorspace   4500   \n",
       "15           jagenjo                 webglstudio.js   4400   \n",
       "16           YadiraF                          PRNet   4400   \n",
       "17      AaronJackson                            vrn   4400   \n",
       "18          openscad                       openscad   4100   \n",
       "19           domlysz                     BlenderGIS   4100   \n",
       "20             ssloy                  tinyraytracer   3800   \n",
       "21             mosra                         magnum   3600   \n",
       "22            google                   model-viewer   3200   \n",
       "23   gfxfundamentals             webgl-fundamentals   3100   \n",
       "24           blender                        blender   3100   \n",
       "25         cleardusk                          3DDFA   3000   \n",
       "26         jasonlong        isometric-contributions   3000   \n",
       "27            antvis                             L7   2400   \n",
       "28    cnr-isti-vclab                        meshlab   2300   \n",
       "29           pissang                         claygl   2300   \n",
       "\n",
       "                                          Repstry_url  \n",
       "0                  https://github.com/mrdoob/three.js  \n",
       "1                    https://github.com/libgdx/libgdx  \n",
       "2             https://github.com/BabylonJS/Babylon.js  \n",
       "3         https://github.com/pmndrs/react-three-fiber  \n",
       "4                  https://github.com/aframevr/aframe  \n",
       "5               https://github.com/ssloy/tinyrenderer  \n",
       "6   https://github.com/lettier/3d-game-shaders-for...  \n",
       "7                  https://github.com/FreeCAD/FreeCAD  \n",
       "8                   https://github.com/metafizzy/zdog  \n",
       "9                  https://github.com/CesiumGS/cesium  \n",
       "10  https://github.com/timzhang642/3D-Machine-Lear...  \n",
       "11  https://github.com/a1studmuffin/SpaceshipGener...  \n",
       "12                  https://github.com/isl-org/Open3D  \n",
       "13               https://github.com/spritejs/spritejs  \n",
       "14    https://github.com/tensorspace-team/tensorspace  \n",
       "15          https://github.com/jagenjo/webglstudio.js  \n",
       "16                   https://github.com/YadiraF/PRNet  \n",
       "17                https://github.com/AaronJackson/vrn  \n",
       "18               https://github.com/openscad/openscad  \n",
       "19              https://github.com/domlysz/BlenderGIS  \n",
       "20             https://github.com/ssloy/tinyraytracer  \n",
       "21                    https://github.com/mosra/magnum  \n",
       "22             https://github.com/google/model-viewer  \n",
       "23  https://github.com/gfxfundamentals/webgl-funda...  \n",
       "24                 https://github.com/blender/blender  \n",
       "25                 https://github.com/cleardusk/3DDFA  \n",
       "26  https://github.com/jasonlong/isometric-contrib...  \n",
       "27                       https://github.com/antvis/L7  \n",
       "28          https://github.com/cnr-isti-vclab/meshlab  \n",
       "29                  https://github.com/pissang/claygl  "
      ]
     },
     "execution_count": 58,
     "metadata": {},
     "output_type": "execute_result"
    }
   ],
   "source": [
    "topic_repstry_df"
   ]
  },
  {
   "cell_type": "markdown",
   "id": "3caff727",
   "metadata": {},
   "source": [
    "# Part - 2"
   ]
  },
  {
   "cell_type": "markdown",
   "id": "0e6aafc9",
   "metadata": {},
   "source": [
    "#  The Concised Code"
   ]
  },
  {
   "cell_type": "markdown",
   "id": "7f18ce44",
   "metadata": {},
   "source": [
    "###  a) Functions to Scrap list of repositories and their details of different Titles/Topics"
   ]
  },
  {
   "cell_type": "code",
   "execution_count": 67,
   "id": "c39058bb",
   "metadata": {},
   "outputs": [],
   "source": [
    "import os\n",
    "\n",
    "\n",
    "def get_topics_page(topic_url):\n",
    "    # Download the page\n",
    "    response = requests.get(topic_url)\n",
    "    \n",
    "    # Check successful response\n",
    "    if response.status_code != 200:\n",
    "        raise Exception('Failed to load page{}'.format(topic_url))\n",
    "        \n",
    "    # Parse using Beautiful soup\n",
    "    parsed_topic_doc = BeautifulSoup(response.text, 'html.parser')\n",
    "    return parsed_topic_doc\n",
    "\n",
    "def get_repstry_info(repstry_tags, star_rating_tags):\n",
    "    # returns all the required info about a repository\n",
    "    a_tags = repstry_tags.find_all('a')\n",
    "    username = a_tags[0].text.strip()\n",
    "    repstry_name = a_tags[1].text.strip()\n",
    "    repo_url = base_url + a_tags[1]['href']\n",
    "    stars = parse_star_count(star_rating_tags.text.strip())\n",
    "    return username, repstry_name, stars, repo_url    \n",
    "\n",
    "\n",
    "\n",
    "def get_topics_repstry(parsed_topic_doc):  \n",
    "    # Get h1 tags containing repository title, repository URL and Username\n",
    "    information_class =\"f3 color-text-secondary text-normal lh-condensed\"\n",
    "    repstry_tags = parsed_topic_doc.find_all( 'h3', {'class': information_class})\n",
    "   \n",
    "    # Get star tags\n",
    "    star_rating_class = \"social-count float-none\"\n",
    "    star_rating_tags = parsed_topic_doc.find_all('a',{'class': star_rating_class})\n",
    "    \n",
    "    # Creat a dictionary\n",
    "    topic_repstry_dict = {\n",
    "    'Username': [],\n",
    "    'Repstry_Name': [],\n",
    "    'Stars': [],\n",
    "    'Repstry_url': []\n",
    "    }\n",
    "    \n",
    "    # Get Repository Information\n",
    "    for i in range(len(repstry_tags)):\n",
    "        repstry_info = get_repstry_info(repstry_tags[i], star_rating_tags[i])\n",
    "        topic_repstry_dict['Username'].append(repstry_info[0])\n",
    "        topic_repstry_dict['Repstry_Name'].append(repstry_info[1])\n",
    "        topic_repstry_dict['Stars'].append(repstry_info[2])\n",
    "        topic_repstry_dict['Repstry_url'].append(repstry_info[3])\n",
    "    \n",
    "    return pd.DataFrame(topic_repstry_dict)\n",
    "\n",
    "def scrape_topic(topic_url, path):\n",
    "    if os.path.exists(path):\n",
    "        print(\"The file {} already exists. Skipping...\".format(path))\n",
    "        return\n",
    "    topic_df = get_topics_repstry(get_topics_page(topic_url))\n",
    "    topic_df.to_csv(path)\n",
    "    "
   ]
  },
  {
   "cell_type": "code",
   "execution_count": 68,
   "id": "e751721c",
   "metadata": {},
   "outputs": [
    {
     "data": {
      "text/plain": [
       "'https://github.com/topics/algorithm'"
      ]
     },
     "execution_count": 68,
     "metadata": {},
     "output_type": "execute_result"
    }
   ],
   "source": [
    "topic_urls[2]"
   ]
  },
  {
   "cell_type": "code",
   "execution_count": 69,
   "id": "25e28360",
   "metadata": {},
   "outputs": [
    {
     "data": {
      "text/html": [
       "<div>\n",
       "<style scoped>\n",
       "    .dataframe tbody tr th:only-of-type {\n",
       "        vertical-align: middle;\n",
       "    }\n",
       "\n",
       "    .dataframe tbody tr th {\n",
       "        vertical-align: top;\n",
       "    }\n",
       "\n",
       "    .dataframe thead th {\n",
       "        text-align: right;\n",
       "    }\n",
       "</style>\n",
       "<table border=\"1\" class=\"dataframe\">\n",
       "  <thead>\n",
       "    <tr style=\"text-align: right;\">\n",
       "      <th></th>\n",
       "      <th>Username</th>\n",
       "      <th>Repstry_Name</th>\n",
       "      <th>Stars</th>\n",
       "      <th>Repstry_url</th>\n",
       "    </tr>\n",
       "  </thead>\n",
       "  <tbody>\n",
       "    <tr>\n",
       "      <th>0</th>\n",
       "      <td>jwasham</td>\n",
       "      <td>coding-interview-university</td>\n",
       "      <td>188000</td>\n",
       "      <td>https://github.com/jwasham/coding-interview-un...</td>\n",
       "    </tr>\n",
       "    <tr>\n",
       "      <th>1</th>\n",
       "      <td>CyC2018</td>\n",
       "      <td>CS-Notes</td>\n",
       "      <td>136000</td>\n",
       "      <td>https://github.com/CyC2018/CS-Notes</td>\n",
       "    </tr>\n",
       "    <tr>\n",
       "      <th>2</th>\n",
       "      <td>trekhleb</td>\n",
       "      <td>javascript-algorithms</td>\n",
       "      <td>115000</td>\n",
       "      <td>https://github.com/trekhleb/javascript-algorithms</td>\n",
       "    </tr>\n",
       "    <tr>\n",
       "      <th>3</th>\n",
       "      <td>TheAlgorithms</td>\n",
       "      <td>Python</td>\n",
       "      <td>114000</td>\n",
       "      <td>https://github.com/TheAlgorithms/Python</td>\n",
       "    </tr>\n",
       "    <tr>\n",
       "      <th>4</th>\n",
       "      <td>yangshun</td>\n",
       "      <td>tech-interview-handbook</td>\n",
       "      <td>55800</td>\n",
       "      <td>https://github.com/yangshun/tech-interview-han...</td>\n",
       "    </tr>\n",
       "    <tr>\n",
       "      <th>5</th>\n",
       "      <td>kdn251</td>\n",
       "      <td>interviews</td>\n",
       "      <td>53200</td>\n",
       "      <td>https://github.com/kdn251/interviews</td>\n",
       "    </tr>\n",
       "    <tr>\n",
       "      <th>6</th>\n",
       "      <td>azl397985856</td>\n",
       "      <td>leetcode</td>\n",
       "      <td>43300</td>\n",
       "      <td>https://github.com/azl397985856/leetcode</td>\n",
       "    </tr>\n",
       "    <tr>\n",
       "      <th>7</th>\n",
       "      <td>algorithm-visualizer</td>\n",
       "      <td>algorithm-visualizer</td>\n",
       "      <td>35100</td>\n",
       "      <td>https://github.com/algorithm-visualizer/algori...</td>\n",
       "    </tr>\n",
       "    <tr>\n",
       "      <th>8</th>\n",
       "      <td>crossoverJie</td>\n",
       "      <td>JCSprout</td>\n",
       "      <td>26300</td>\n",
       "      <td>https://github.com/crossoverJie/JCSprout</td>\n",
       "    </tr>\n",
       "    <tr>\n",
       "      <th>9</th>\n",
       "      <td>donnemartin</td>\n",
       "      <td>interactive-coding-challenges</td>\n",
       "      <td>23200</td>\n",
       "      <td>https://github.com/donnemartin/interactive-cod...</td>\n",
       "    </tr>\n",
       "    <tr>\n",
       "      <th>10</th>\n",
       "      <td>huihut</td>\n",
       "      <td>interview</td>\n",
       "      <td>19600</td>\n",
       "      <td>https://github.com/huihut/interview</td>\n",
       "    </tr>\n",
       "    <tr>\n",
       "      <th>11</th>\n",
       "      <td>keon</td>\n",
       "      <td>algorithms</td>\n",
       "      <td>19500</td>\n",
       "      <td>https://github.com/keon/algorithms</td>\n",
       "    </tr>\n",
       "    <tr>\n",
       "      <th>12</th>\n",
       "      <td>halfrost</td>\n",
       "      <td>LeetCode-Go</td>\n",
       "      <td>19300</td>\n",
       "      <td>https://github.com/halfrost/LeetCode-Go</td>\n",
       "    </tr>\n",
       "    <tr>\n",
       "      <th>13</th>\n",
       "      <td>trekhleb</td>\n",
       "      <td>homemade-machine-learning</td>\n",
       "      <td>18100</td>\n",
       "      <td>https://github.com/trekhleb/homemade-machine-l...</td>\n",
       "    </tr>\n",
       "    <tr>\n",
       "      <th>14</th>\n",
       "      <td>mxgmn</td>\n",
       "      <td>WaveFunctionCollapse</td>\n",
       "      <td>16700</td>\n",
       "      <td>https://github.com/mxgmn/WaveFunctionCollapse</td>\n",
       "    </tr>\n",
       "    <tr>\n",
       "      <th>15</th>\n",
       "      <td>youngyangyang04</td>\n",
       "      <td>leetcode-master</td>\n",
       "      <td>13800</td>\n",
       "      <td>https://github.com/youngyangyang04/leetcode-ma...</td>\n",
       "    </tr>\n",
       "    <tr>\n",
       "      <th>16</th>\n",
       "      <td>TheAlgorithms</td>\n",
       "      <td>C-Plus-Plus</td>\n",
       "      <td>13600</td>\n",
       "      <td>https://github.com/TheAlgorithms/C-Plus-Plus</td>\n",
       "    </tr>\n",
       "    <tr>\n",
       "      <th>17</th>\n",
       "      <td>AtsushiSakai</td>\n",
       "      <td>PythonRobotics</td>\n",
       "      <td>12800</td>\n",
       "      <td>https://github.com/AtsushiSakai/PythonRobotics</td>\n",
       "    </tr>\n",
       "    <tr>\n",
       "      <th>18</th>\n",
       "      <td>OpenGenus</td>\n",
       "      <td>cosmos</td>\n",
       "      <td>12700</td>\n",
       "      <td>https://github.com/OpenGenus/cosmos</td>\n",
       "    </tr>\n",
       "    <tr>\n",
       "      <th>19</th>\n",
       "      <td>greyireland</td>\n",
       "      <td>algorithm-pattern</td>\n",
       "      <td>12300</td>\n",
       "      <td>https://github.com/greyireland/algorithm-pattern</td>\n",
       "    </tr>\n",
       "    <tr>\n",
       "      <th>20</th>\n",
       "      <td>TheAlgorithms</td>\n",
       "      <td>Javascript</td>\n",
       "      <td>11800</td>\n",
       "      <td>https://github.com/TheAlgorithms/Javascript</td>\n",
       "    </tr>\n",
       "    <tr>\n",
       "      <th>21</th>\n",
       "      <td>williamfiset</td>\n",
       "      <td>Algorithms</td>\n",
       "      <td>10400</td>\n",
       "      <td>https://github.com/williamfiset/Algorithms</td>\n",
       "    </tr>\n",
       "    <tr>\n",
       "      <th>22</th>\n",
       "      <td>apachecn</td>\n",
       "      <td>apachecn-algo-zh</td>\n",
       "      <td>10400</td>\n",
       "      <td>https://github.com/apachecn/apachecn-algo-zh</td>\n",
       "    </tr>\n",
       "    <tr>\n",
       "      <th>23</th>\n",
       "      <td>halfrost</td>\n",
       "      <td>Halfrost-Field</td>\n",
       "      <td>9300</td>\n",
       "      <td>https://github.com/halfrost/Halfrost-Field</td>\n",
       "    </tr>\n",
       "    <tr>\n",
       "      <th>24</th>\n",
       "      <td>lnishan</td>\n",
       "      <td>awesome-competitive-programming</td>\n",
       "      <td>8600</td>\n",
       "      <td>https://github.com/lnishan/awesome-competitive...</td>\n",
       "    </tr>\n",
       "    <tr>\n",
       "      <th>25</th>\n",
       "      <td>Blankj</td>\n",
       "      <td>awesome-java-leetcode</td>\n",
       "      <td>8200</td>\n",
       "      <td>https://github.com/Blankj/awesome-java-leetcode</td>\n",
       "    </tr>\n",
       "    <tr>\n",
       "      <th>26</th>\n",
       "      <td>jeffgerickson</td>\n",
       "      <td>algorithms</td>\n",
       "      <td>7200</td>\n",
       "      <td>https://github.com/jeffgerickson/algorithms</td>\n",
       "    </tr>\n",
       "    <tr>\n",
       "      <th>27</th>\n",
       "      <td>mgechev</td>\n",
       "      <td>javascript-algorithms</td>\n",
       "      <td>6800</td>\n",
       "      <td>https://github.com/mgechev/javascript-algorithms</td>\n",
       "    </tr>\n",
       "    <tr>\n",
       "      <th>28</th>\n",
       "      <td>LeetCode-OpenSource</td>\n",
       "      <td>vscode-leetcode</td>\n",
       "      <td>6700</td>\n",
       "      <td>https://github.com/LeetCode-OpenSource/vscode-...</td>\n",
       "    </tr>\n",
       "    <tr>\n",
       "      <th>29</th>\n",
       "      <td>OlafenwaMoses</td>\n",
       "      <td>ImageAI</td>\n",
       "      <td>6400</td>\n",
       "      <td>https://github.com/OlafenwaMoses/ImageAI</td>\n",
       "    </tr>\n",
       "  </tbody>\n",
       "</table>\n",
       "</div>"
      ],
      "text/plain": [
       "                Username                     Repstry_Name   Stars  \\\n",
       "0                jwasham      coding-interview-university  188000   \n",
       "1                CyC2018                         CS-Notes  136000   \n",
       "2               trekhleb            javascript-algorithms  115000   \n",
       "3          TheAlgorithms                           Python  114000   \n",
       "4               yangshun          tech-interview-handbook   55800   \n",
       "5                 kdn251                       interviews   53200   \n",
       "6           azl397985856                         leetcode   43300   \n",
       "7   algorithm-visualizer             algorithm-visualizer   35100   \n",
       "8           crossoverJie                         JCSprout   26300   \n",
       "9            donnemartin    interactive-coding-challenges   23200   \n",
       "10                huihut                        interview   19600   \n",
       "11                  keon                       algorithms   19500   \n",
       "12              halfrost                      LeetCode-Go   19300   \n",
       "13              trekhleb        homemade-machine-learning   18100   \n",
       "14                 mxgmn             WaveFunctionCollapse   16700   \n",
       "15       youngyangyang04                  leetcode-master   13800   \n",
       "16         TheAlgorithms                      C-Plus-Plus   13600   \n",
       "17          AtsushiSakai                   PythonRobotics   12800   \n",
       "18             OpenGenus                           cosmos   12700   \n",
       "19           greyireland                algorithm-pattern   12300   \n",
       "20         TheAlgorithms                       Javascript   11800   \n",
       "21          williamfiset                       Algorithms   10400   \n",
       "22              apachecn                 apachecn-algo-zh   10400   \n",
       "23              halfrost                   Halfrost-Field    9300   \n",
       "24               lnishan  awesome-competitive-programming    8600   \n",
       "25                Blankj            awesome-java-leetcode    8200   \n",
       "26         jeffgerickson                       algorithms    7200   \n",
       "27               mgechev            javascript-algorithms    6800   \n",
       "28   LeetCode-OpenSource                  vscode-leetcode    6700   \n",
       "29         OlafenwaMoses                          ImageAI    6400   \n",
       "\n",
       "                                          Repstry_url  \n",
       "0   https://github.com/jwasham/coding-interview-un...  \n",
       "1                 https://github.com/CyC2018/CS-Notes  \n",
       "2   https://github.com/trekhleb/javascript-algorithms  \n",
       "3             https://github.com/TheAlgorithms/Python  \n",
       "4   https://github.com/yangshun/tech-interview-han...  \n",
       "5                https://github.com/kdn251/interviews  \n",
       "6            https://github.com/azl397985856/leetcode  \n",
       "7   https://github.com/algorithm-visualizer/algori...  \n",
       "8            https://github.com/crossoverJie/JCSprout  \n",
       "9   https://github.com/donnemartin/interactive-cod...  \n",
       "10                https://github.com/huihut/interview  \n",
       "11                 https://github.com/keon/algorithms  \n",
       "12            https://github.com/halfrost/LeetCode-Go  \n",
       "13  https://github.com/trekhleb/homemade-machine-l...  \n",
       "14      https://github.com/mxgmn/WaveFunctionCollapse  \n",
       "15  https://github.com/youngyangyang04/leetcode-ma...  \n",
       "16       https://github.com/TheAlgorithms/C-Plus-Plus  \n",
       "17     https://github.com/AtsushiSakai/PythonRobotics  \n",
       "18                https://github.com/OpenGenus/cosmos  \n",
       "19   https://github.com/greyireland/algorithm-pattern  \n",
       "20        https://github.com/TheAlgorithms/Javascript  \n",
       "21         https://github.com/williamfiset/Algorithms  \n",
       "22       https://github.com/apachecn/apachecn-algo-zh  \n",
       "23         https://github.com/halfrost/Halfrost-Field  \n",
       "24  https://github.com/lnishan/awesome-competitive...  \n",
       "25    https://github.com/Blankj/awesome-java-leetcode  \n",
       "26        https://github.com/jeffgerickson/algorithms  \n",
       "27   https://github.com/mgechev/javascript-algorithms  \n",
       "28  https://github.com/LeetCode-OpenSource/vscode-...  \n",
       "29           https://github.com/OlafenwaMoses/ImageAI  "
      ]
     },
     "execution_count": 69,
     "metadata": {},
     "output_type": "execute_result"
    }
   ],
   "source": [
    "get_topics_repstry( get_topics_page(topic_urls[2]))"
   ]
  },
  {
   "cell_type": "markdown",
   "id": "1ce7fa0e",
   "metadata": {},
   "source": [
    "###  Loads list of Topics and its details into a CSV file"
   ]
  },
  {
   "cell_type": "code",
   "execution_count": 70,
   "id": "040e403f",
   "metadata": {},
   "outputs": [],
   "source": [
    "get_topics_repstry( get_topics_page(topic_urls[2])).to_csv('algorith.csv', index = None)"
   ]
  },
  {
   "cell_type": "markdown",
   "id": "a419d7e9",
   "metadata": {},
   "source": [
    "## \n",
    "Write a single function to :\n",
    "1. Get the list of topics from the topics page.\n",
    "2. Get the list of top repository from the individual topic pages.\n",
    "3. For each topic, Create a CSV of the top repositories of that particular topic."
   ]
  },
  {
   "cell_type": "markdown",
   "id": "a88e8898",
   "metadata": {},
   "source": [
    "###   b)  Functions to scrap details of all the topics"
   ]
  },
  {
   "cell_type": "code",
   "execution_count": 71,
   "id": "470c1c70",
   "metadata": {},
   "outputs": [],
   "source": [
    "def get_topic_titles(parsed_doc):\n",
    "    selection_class = \"f3 lh-condensed mb-0 mt-1 Link--primary\"\n",
    "    topic_title_tags = parsed_doc.find_all('p', {'class': selection_class})\n",
    "    ## Parsing Topics Titles\n",
    "    topic_titles= []\n",
    "    for tag in topic_title_tags:\n",
    "        topic_titles.append(tag.text)\n",
    "    return topic_titles\n",
    "\n",
    "def get_topic_descs(doc):\n",
    "    desc_selector = \"f5 color-text-secondary mb-0 mt-1\"\n",
    "    topic_desc_tags = parsed_doc.find_all('p', {'class': desc_selector})\n",
    "    ## Parsing Topics Description\n",
    "    topic_descs = []\n",
    "    for tag in topic_desc_tags:\n",
    "        topic_descs.append(tag.text.strip())\n",
    "    return topic_descs\n",
    "\n",
    "def get_topic_urls(doc):\n",
    "    link_selector = 'd-flex no-underline'\n",
    "    topic_link_tags = parsed_doc.find_all('a', {'class': link_selector })\n",
    "    ## Parsing Topics Url\n",
    "    topic_urls = []\n",
    "    base_url = 'https://github.com'\n",
    "    for tag in topic_link_tags:\n",
    "        topic_urls.append(base_url + tag['href'])\n",
    "    return topic_urls\n",
    "    \n",
    "def scrape_topics():\n",
    "    topics_url = 'https://github.com/topics'\n",
    "    response = requests.get(topics_url)\n",
    "    if response.status_code != 200:\n",
    "        raise Exception('Failed to load page{}'.format(topic_url))\n",
    "    topics_dict = {\n",
    "        'Title': get_topic_titles(parsed_doc),\n",
    "        'Description': get_topic_descs(parsed_doc),\n",
    "        'url': get_topic_urls(parsed_doc)\n",
    "    }\n",
    "    return pd.DataFrame(topics_dict)"
   ]
  },
  {
   "cell_type": "code",
   "execution_count": 72,
   "id": "cc1ba414",
   "metadata": {},
   "outputs": [],
   "source": [
    "def scrape_topics_repos():\n",
    "    print(\"Scraping list of topics\")\n",
    "    topics_df = scrape_topics()\n",
    "    \n",
    "    ## Creating a folder\n",
    "    os.makedirs('Github_Scrapped_Data', exist_ok = True)\n",
    "    for index, row in topics_df.iterrows():\n",
    "        print('scraping top repositories for \"{}\"'.format(row['Title']))\n",
    "        scrape_topic(row['url'], 'Github_Scrapped_Data/{}.csv'.format(row['Title']))"
   ]
  },
  {
   "cell_type": "markdown",
   "id": "e6f66a2a",
   "metadata": {},
   "source": [
    "##  c)  Finally Scrappes the CSV files"
   ]
  },
  {
   "cell_type": "code",
   "execution_count": 73,
   "id": "211b679c",
   "metadata": {},
   "outputs": [
    {
     "name": "stdout",
     "output_type": "stream",
     "text": [
      "Scraping list of topics\n",
      "scraping top repositories for \"3D\"\n",
      "scraping top repositories for \"Ajax\"\n",
      "scraping top repositories for \"Algorithm\"\n",
      "scraping top repositories for \"Amp\"\n",
      "scraping top repositories for \"Android\"\n",
      "scraping top repositories for \"Angular\"\n",
      "scraping top repositories for \"Ansible\"\n",
      "scraping top repositories for \"API\"\n",
      "scraping top repositories for \"Arduino\"\n",
      "scraping top repositories for \"ASP.NET\"\n",
      "scraping top repositories for \"Atom\"\n",
      "scraping top repositories for \"Awesome Lists\"\n",
      "scraping top repositories for \"Amazon Web Services\"\n",
      "scraping top repositories for \"Azure\"\n",
      "scraping top repositories for \"Babel\"\n",
      "scraping top repositories for \"Bash\"\n",
      "scraping top repositories for \"Bitcoin\"\n",
      "scraping top repositories for \"Bootstrap\"\n",
      "scraping top repositories for \"Bot\"\n",
      "scraping top repositories for \"C\"\n",
      "scraping top repositories for \"Chrome\"\n",
      "scraping top repositories for \"Chrome extension\"\n",
      "scraping top repositories for \"Command line interface\"\n",
      "scraping top repositories for \"Clojure\"\n",
      "scraping top repositories for \"Code quality\"\n",
      "scraping top repositories for \"Code review\"\n",
      "scraping top repositories for \"Compiler\"\n",
      "scraping top repositories for \"Continuous integration\"\n",
      "scraping top repositories for \"COVID-19\"\n",
      "scraping top repositories for \"C++\"\n"
     ]
    }
   ],
   "source": [
    "scrape_topics_repos()"
   ]
  },
  {
   "cell_type": "markdown",
   "id": "c64270f4",
   "metadata": {},
   "source": [
    "# THE END"
   ]
  }
 ],
 "metadata": {
  "kernelspec": {
   "display_name": "Python 3",
   "language": "python",
   "name": "python3"
  },
  "language_info": {
   "codemirror_mode": {
    "name": "ipython",
    "version": 3
   },
   "file_extension": ".py",
   "mimetype": "text/x-python",
   "name": "python",
   "nbconvert_exporter": "python",
   "pygments_lexer": "ipython3",
   "version": "3.8.8"
  }
 },
 "nbformat": 4,
 "nbformat_minor": 5
}
